{
 "cells": [
  {
   "cell_type": "markdown",
   "metadata": {},
   "source": [
    "# ASSIGNMENT 3"
   ]
  },
  {
   "cell_type": "markdown",
   "metadata": {},
   "source": [
    "The dataset was released by Aspiring Minds from the Aspiring Mind Employment Outcome 2015 (AMEO). The study is primarily limited  only to students with engineering disciplines. The dataset contains the employment outcomes of engineering graduates as dependent variables (Salary, Job Titles, and Job Locations) along with the standardized scores from three different areas – cognitive skills, technical skills and personality skills. The dataset also contains demographic features. The dataset  contains  around  40 independent variables and 4000 data points. The independent variables are both continuous and categorical in nature. The dataset contains a unique identifier for each candidate. Below mentioned table contains the details for the original dataset.  \n",
    "\n",
    "There are total 3998 rows and 39 columns."
   ]
  },
  {
   "cell_type": "code",
   "execution_count": 1,
   "metadata": {},
   "outputs": [],
   "source": [
    "import numpy as np\n",
    "import pandas as pd\n",
    "import matplotlib.pyplot as plt\n",
    "import seaborn as sns"
   ]
  },
  {
   "cell_type": "code",
   "execution_count": 2,
   "metadata": {},
   "outputs": [
    {
     "data": {
      "text/html": [
       "<div>\n",
       "<style scoped>\n",
       "    .dataframe tbody tr th:only-of-type {\n",
       "        vertical-align: middle;\n",
       "    }\n",
       "\n",
       "    .dataframe tbody tr th {\n",
       "        vertical-align: top;\n",
       "    }\n",
       "\n",
       "    .dataframe thead th {\n",
       "        text-align: right;\n",
       "    }\n",
       "</style>\n",
       "<table border=\"1\" class=\"dataframe\">\n",
       "  <thead>\n",
       "    <tr style=\"text-align: right;\">\n",
       "      <th></th>\n",
       "      <th>Unnamed: 0</th>\n",
       "      <th>ID</th>\n",
       "      <th>Salary</th>\n",
       "      <th>DOJ</th>\n",
       "      <th>DOL</th>\n",
       "      <th>Designation</th>\n",
       "      <th>JobCity</th>\n",
       "      <th>Gender</th>\n",
       "      <th>DOB</th>\n",
       "      <th>10percentage</th>\n",
       "      <th>...</th>\n",
       "      <th>ComputerScience</th>\n",
       "      <th>MechanicalEngg</th>\n",
       "      <th>ElectricalEngg</th>\n",
       "      <th>TelecomEngg</th>\n",
       "      <th>CivilEngg</th>\n",
       "      <th>conscientiousness</th>\n",
       "      <th>agreeableness</th>\n",
       "      <th>extraversion</th>\n",
       "      <th>nueroticism</th>\n",
       "      <th>openess_to_experience</th>\n",
       "    </tr>\n",
       "  </thead>\n",
       "  <tbody>\n",
       "    <tr>\n",
       "      <th>0</th>\n",
       "      <td>train</td>\n",
       "      <td>203097</td>\n",
       "      <td>420000</td>\n",
       "      <td>2012-06-01</td>\n",
       "      <td>present</td>\n",
       "      <td>senior quality engineer</td>\n",
       "      <td>Bangalore</td>\n",
       "      <td>f</td>\n",
       "      <td>1990-02-19</td>\n",
       "      <td>84.3</td>\n",
       "      <td>...</td>\n",
       "      <td>-1</td>\n",
       "      <td>-1</td>\n",
       "      <td>-1</td>\n",
       "      <td>-1</td>\n",
       "      <td>-1</td>\n",
       "      <td>0.9737</td>\n",
       "      <td>0.8128</td>\n",
       "      <td>0.5269</td>\n",
       "      <td>1.35490</td>\n",
       "      <td>-0.4455</td>\n",
       "    </tr>\n",
       "    <tr>\n",
       "      <th>1</th>\n",
       "      <td>train</td>\n",
       "      <td>579905</td>\n",
       "      <td>500000</td>\n",
       "      <td>2013-09-01</td>\n",
       "      <td>present</td>\n",
       "      <td>assistant manager</td>\n",
       "      <td>Indore</td>\n",
       "      <td>m</td>\n",
       "      <td>1989-10-04</td>\n",
       "      <td>85.4</td>\n",
       "      <td>...</td>\n",
       "      <td>-1</td>\n",
       "      <td>-1</td>\n",
       "      <td>-1</td>\n",
       "      <td>-1</td>\n",
       "      <td>-1</td>\n",
       "      <td>-0.7335</td>\n",
       "      <td>0.3789</td>\n",
       "      <td>1.2396</td>\n",
       "      <td>-0.10760</td>\n",
       "      <td>0.8637</td>\n",
       "    </tr>\n",
       "    <tr>\n",
       "      <th>2</th>\n",
       "      <td>train</td>\n",
       "      <td>810601</td>\n",
       "      <td>325000</td>\n",
       "      <td>2014-06-01</td>\n",
       "      <td>present</td>\n",
       "      <td>systems engineer</td>\n",
       "      <td>Chennai</td>\n",
       "      <td>f</td>\n",
       "      <td>1992-08-03</td>\n",
       "      <td>85.0</td>\n",
       "      <td>...</td>\n",
       "      <td>-1</td>\n",
       "      <td>-1</td>\n",
       "      <td>-1</td>\n",
       "      <td>-1</td>\n",
       "      <td>-1</td>\n",
       "      <td>0.2718</td>\n",
       "      <td>1.7109</td>\n",
       "      <td>0.1637</td>\n",
       "      <td>-0.86820</td>\n",
       "      <td>0.6721</td>\n",
       "    </tr>\n",
       "    <tr>\n",
       "      <th>3</th>\n",
       "      <td>train</td>\n",
       "      <td>267447</td>\n",
       "      <td>1100000</td>\n",
       "      <td>2011-07-01</td>\n",
       "      <td>present</td>\n",
       "      <td>senior software engineer</td>\n",
       "      <td>Gurgaon</td>\n",
       "      <td>m</td>\n",
       "      <td>1989-12-05</td>\n",
       "      <td>85.6</td>\n",
       "      <td>...</td>\n",
       "      <td>-1</td>\n",
       "      <td>-1</td>\n",
       "      <td>-1</td>\n",
       "      <td>-1</td>\n",
       "      <td>-1</td>\n",
       "      <td>0.0464</td>\n",
       "      <td>0.3448</td>\n",
       "      <td>-0.3440</td>\n",
       "      <td>-0.40780</td>\n",
       "      <td>-0.9194</td>\n",
       "    </tr>\n",
       "    <tr>\n",
       "      <th>4</th>\n",
       "      <td>train</td>\n",
       "      <td>343523</td>\n",
       "      <td>200000</td>\n",
       "      <td>2014-03-01</td>\n",
       "      <td>2015-03-01 00:00:00</td>\n",
       "      <td>get</td>\n",
       "      <td>Manesar</td>\n",
       "      <td>m</td>\n",
       "      <td>1991-02-27</td>\n",
       "      <td>78.0</td>\n",
       "      <td>...</td>\n",
       "      <td>-1</td>\n",
       "      <td>-1</td>\n",
       "      <td>-1</td>\n",
       "      <td>-1</td>\n",
       "      <td>-1</td>\n",
       "      <td>-0.8810</td>\n",
       "      <td>-0.2793</td>\n",
       "      <td>-1.0697</td>\n",
       "      <td>0.09163</td>\n",
       "      <td>-0.1295</td>\n",
       "    </tr>\n",
       "  </tbody>\n",
       "</table>\n",
       "<p>5 rows × 39 columns</p>\n",
       "</div>"
      ],
      "text/plain": [
       "  Unnamed: 0      ID   Salary        DOJ                  DOL  \\\n",
       "0      train  203097   420000 2012-06-01              present   \n",
       "1      train  579905   500000 2013-09-01              present   \n",
       "2      train  810601   325000 2014-06-01              present   \n",
       "3      train  267447  1100000 2011-07-01              present   \n",
       "4      train  343523   200000 2014-03-01  2015-03-01 00:00:00   \n",
       "\n",
       "                Designation    JobCity Gender        DOB  10percentage  ...  \\\n",
       "0   senior quality engineer  Bangalore      f 1990-02-19          84.3  ...   \n",
       "1         assistant manager     Indore      m 1989-10-04          85.4  ...   \n",
       "2          systems engineer    Chennai      f 1992-08-03          85.0  ...   \n",
       "3  senior software engineer    Gurgaon      m 1989-12-05          85.6  ...   \n",
       "4                       get    Manesar      m 1991-02-27          78.0  ...   \n",
       "\n",
       "  ComputerScience  MechanicalEngg  ElectricalEngg TelecomEngg  CivilEngg  \\\n",
       "0              -1              -1              -1          -1         -1   \n",
       "1              -1              -1              -1          -1         -1   \n",
       "2              -1              -1              -1          -1         -1   \n",
       "3              -1              -1              -1          -1         -1   \n",
       "4              -1              -1              -1          -1         -1   \n",
       "\n",
       "   conscientiousness agreeableness extraversion  nueroticism  \\\n",
       "0             0.9737        0.8128       0.5269      1.35490   \n",
       "1            -0.7335        0.3789       1.2396     -0.10760   \n",
       "2             0.2718        1.7109       0.1637     -0.86820   \n",
       "3             0.0464        0.3448      -0.3440     -0.40780   \n",
       "4            -0.8810       -0.2793      -1.0697      0.09163   \n",
       "\n",
       "   openess_to_experience  \n",
       "0                -0.4455  \n",
       "1                 0.8637  \n",
       "2                 0.6721  \n",
       "3                -0.9194  \n",
       "4                -0.1295  \n",
       "\n",
       "[5 rows x 39 columns]"
      ]
     },
     "execution_count": 2,
     "metadata": {},
     "output_type": "execute_result"
    }
   ],
   "source": [
    "#loaded the file\n",
    "df=pd.read_excel('data/amcat.xlsx')\n",
    "#checked for the successful loading of the data\n",
    "df.head()\n",
    "#displayed the head"
   ]
  },
  {
   "cell_type": "code",
   "execution_count": 3,
   "metadata": {},
   "outputs": [
    {
     "data": {
      "text/plain": [
       "(3998, 39)"
      ]
     },
     "execution_count": 3,
     "metadata": {},
     "output_type": "execute_result"
    }
   ],
   "source": [
    "df.shape\n",
    "#number of rows and columns"
   ]
  },
  {
   "cell_type": "code",
   "execution_count": 4,
   "metadata": {},
   "outputs": [
    {
     "data": {
      "text/html": [
       "<div>\n",
       "<style scoped>\n",
       "    .dataframe tbody tr th:only-of-type {\n",
       "        vertical-align: middle;\n",
       "    }\n",
       "\n",
       "    .dataframe tbody tr th {\n",
       "        vertical-align: top;\n",
       "    }\n",
       "\n",
       "    .dataframe thead th {\n",
       "        text-align: right;\n",
       "    }\n",
       "</style>\n",
       "<table border=\"1\" class=\"dataframe\">\n",
       "  <thead>\n",
       "    <tr style=\"text-align: right;\">\n",
       "      <th></th>\n",
       "      <th>Unnamed: 0</th>\n",
       "      <th>ID</th>\n",
       "      <th>Salary</th>\n",
       "      <th>DOJ</th>\n",
       "      <th>DOL</th>\n",
       "      <th>Designation</th>\n",
       "      <th>JobCity</th>\n",
       "      <th>Gender</th>\n",
       "      <th>DOB</th>\n",
       "      <th>10percentage</th>\n",
       "      <th>...</th>\n",
       "      <th>ComputerScience</th>\n",
       "      <th>MechanicalEngg</th>\n",
       "      <th>ElectricalEngg</th>\n",
       "      <th>TelecomEngg</th>\n",
       "      <th>CivilEngg</th>\n",
       "      <th>conscientiousness</th>\n",
       "      <th>agreeableness</th>\n",
       "      <th>extraversion</th>\n",
       "      <th>nueroticism</th>\n",
       "      <th>openess_to_experience</th>\n",
       "    </tr>\n",
       "  </thead>\n",
       "  <tbody>\n",
       "    <tr>\n",
       "      <th>3993</th>\n",
       "      <td>train</td>\n",
       "      <td>47916</td>\n",
       "      <td>280000</td>\n",
       "      <td>2011-10-01</td>\n",
       "      <td>2012-10-01 00:00:00</td>\n",
       "      <td>software engineer</td>\n",
       "      <td>New Delhi</td>\n",
       "      <td>m</td>\n",
       "      <td>1987-04-15</td>\n",
       "      <td>52.09</td>\n",
       "      <td>...</td>\n",
       "      <td>-1</td>\n",
       "      <td>-1</td>\n",
       "      <td>-1</td>\n",
       "      <td>-1</td>\n",
       "      <td>-1</td>\n",
       "      <td>-0.1082</td>\n",
       "      <td>0.3448</td>\n",
       "      <td>0.2366</td>\n",
       "      <td>0.64980</td>\n",
       "      <td>-0.9194</td>\n",
       "    </tr>\n",
       "    <tr>\n",
       "      <th>3994</th>\n",
       "      <td>train</td>\n",
       "      <td>752781</td>\n",
       "      <td>100000</td>\n",
       "      <td>2013-07-01</td>\n",
       "      <td>2013-07-01 00:00:00</td>\n",
       "      <td>technical writer</td>\n",
       "      <td>Hyderabad</td>\n",
       "      <td>f</td>\n",
       "      <td>1992-08-27</td>\n",
       "      <td>90.00</td>\n",
       "      <td>...</td>\n",
       "      <td>-1</td>\n",
       "      <td>-1</td>\n",
       "      <td>-1</td>\n",
       "      <td>-1</td>\n",
       "      <td>-1</td>\n",
       "      <td>-0.3027</td>\n",
       "      <td>0.8784</td>\n",
       "      <td>0.9322</td>\n",
       "      <td>0.77980</td>\n",
       "      <td>-0.0943</td>\n",
       "    </tr>\n",
       "    <tr>\n",
       "      <th>3995</th>\n",
       "      <td>train</td>\n",
       "      <td>355888</td>\n",
       "      <td>320000</td>\n",
       "      <td>2013-07-01</td>\n",
       "      <td>present</td>\n",
       "      <td>associate software engineer</td>\n",
       "      <td>Bangalore</td>\n",
       "      <td>m</td>\n",
       "      <td>1991-07-03</td>\n",
       "      <td>81.86</td>\n",
       "      <td>...</td>\n",
       "      <td>-1</td>\n",
       "      <td>-1</td>\n",
       "      <td>-1</td>\n",
       "      <td>-1</td>\n",
       "      <td>-1</td>\n",
       "      <td>-1.5765</td>\n",
       "      <td>-1.5273</td>\n",
       "      <td>-1.5051</td>\n",
       "      <td>-1.31840</td>\n",
       "      <td>-0.7615</td>\n",
       "    </tr>\n",
       "    <tr>\n",
       "      <th>3996</th>\n",
       "      <td>train</td>\n",
       "      <td>947111</td>\n",
       "      <td>200000</td>\n",
       "      <td>2014-07-01</td>\n",
       "      <td>2015-01-01 00:00:00</td>\n",
       "      <td>software developer</td>\n",
       "      <td>Asifabadbanglore</td>\n",
       "      <td>f</td>\n",
       "      <td>1992-03-20</td>\n",
       "      <td>78.72</td>\n",
       "      <td>...</td>\n",
       "      <td>438</td>\n",
       "      <td>-1</td>\n",
       "      <td>-1</td>\n",
       "      <td>-1</td>\n",
       "      <td>-1</td>\n",
       "      <td>-0.1590</td>\n",
       "      <td>0.0459</td>\n",
       "      <td>-0.4511</td>\n",
       "      <td>-0.36120</td>\n",
       "      <td>-0.0943</td>\n",
       "    </tr>\n",
       "    <tr>\n",
       "      <th>3997</th>\n",
       "      <td>train</td>\n",
       "      <td>324966</td>\n",
       "      <td>400000</td>\n",
       "      <td>2013-02-01</td>\n",
       "      <td>present</td>\n",
       "      <td>senior systems engineer</td>\n",
       "      <td>Chennai</td>\n",
       "      <td>f</td>\n",
       "      <td>1991-02-26</td>\n",
       "      <td>70.60</td>\n",
       "      <td>...</td>\n",
       "      <td>-1</td>\n",
       "      <td>-1</td>\n",
       "      <td>-1</td>\n",
       "      <td>-1</td>\n",
       "      <td>-1</td>\n",
       "      <td>-1.1128</td>\n",
       "      <td>-0.2793</td>\n",
       "      <td>-0.6343</td>\n",
       "      <td>1.32553</td>\n",
       "      <td>-0.6035</td>\n",
       "    </tr>\n",
       "  </tbody>\n",
       "</table>\n",
       "<p>5 rows × 39 columns</p>\n",
       "</div>"
      ],
      "text/plain": [
       "     Unnamed: 0      ID  Salary        DOJ                  DOL  \\\n",
       "3993      train   47916  280000 2011-10-01  2012-10-01 00:00:00   \n",
       "3994      train  752781  100000 2013-07-01  2013-07-01 00:00:00   \n",
       "3995      train  355888  320000 2013-07-01              present   \n",
       "3996      train  947111  200000 2014-07-01  2015-01-01 00:00:00   \n",
       "3997      train  324966  400000 2013-02-01              present   \n",
       "\n",
       "                      Designation           JobCity Gender        DOB  \\\n",
       "3993            software engineer        New Delhi       m 1987-04-15   \n",
       "3994             technical writer         Hyderabad      f 1992-08-27   \n",
       "3995  associate software engineer         Bangalore      m 1991-07-03   \n",
       "3996           software developer  Asifabadbanglore      f 1992-03-20   \n",
       "3997      senior systems engineer           Chennai      f 1991-02-26   \n",
       "\n",
       "      10percentage  ... ComputerScience  MechanicalEngg  ElectricalEngg  \\\n",
       "3993         52.09  ...              -1              -1              -1   \n",
       "3994         90.00  ...              -1              -1              -1   \n",
       "3995         81.86  ...              -1              -1              -1   \n",
       "3996         78.72  ...             438              -1              -1   \n",
       "3997         70.60  ...              -1              -1              -1   \n",
       "\n",
       "     TelecomEngg  CivilEngg  conscientiousness agreeableness extraversion  \\\n",
       "3993          -1         -1            -0.1082        0.3448       0.2366   \n",
       "3994          -1         -1            -0.3027        0.8784       0.9322   \n",
       "3995          -1         -1            -1.5765       -1.5273      -1.5051   \n",
       "3996          -1         -1            -0.1590        0.0459      -0.4511   \n",
       "3997          -1         -1            -1.1128       -0.2793      -0.6343   \n",
       "\n",
       "      nueroticism  openess_to_experience  \n",
       "3993      0.64980                -0.9194  \n",
       "3994      0.77980                -0.0943  \n",
       "3995     -1.31840                -0.7615  \n",
       "3996     -0.36120                -0.0943  \n",
       "3997      1.32553                -0.6035  \n",
       "\n",
       "[5 rows x 39 columns]"
      ]
     },
     "execution_count": 4,
     "metadata": {},
     "output_type": "execute_result"
    }
   ],
   "source": [
    "df.tail()\n",
    "#showing the last rows of the data"
   ]
  },
  {
   "cell_type": "code",
   "execution_count": 5,
   "metadata": {},
   "outputs": [
    {
     "data": {
      "text/html": [
       "<div>\n",
       "<style scoped>\n",
       "    .dataframe tbody tr th:only-of-type {\n",
       "        vertical-align: middle;\n",
       "    }\n",
       "\n",
       "    .dataframe tbody tr th {\n",
       "        vertical-align: top;\n",
       "    }\n",
       "\n",
       "    .dataframe thead th {\n",
       "        text-align: right;\n",
       "    }\n",
       "</style>\n",
       "<table border=\"1\" class=\"dataframe\">\n",
       "  <thead>\n",
       "    <tr style=\"text-align: right;\">\n",
       "      <th></th>\n",
       "      <th>ID</th>\n",
       "      <th>Salary</th>\n",
       "      <th>10percentage</th>\n",
       "      <th>12graduation</th>\n",
       "      <th>12percentage</th>\n",
       "      <th>CollegeID</th>\n",
       "      <th>CollegeTier</th>\n",
       "      <th>collegeGPA</th>\n",
       "      <th>CollegeCityID</th>\n",
       "      <th>CollegeCityTier</th>\n",
       "      <th>...</th>\n",
       "      <th>ComputerScience</th>\n",
       "      <th>MechanicalEngg</th>\n",
       "      <th>ElectricalEngg</th>\n",
       "      <th>TelecomEngg</th>\n",
       "      <th>CivilEngg</th>\n",
       "      <th>conscientiousness</th>\n",
       "      <th>agreeableness</th>\n",
       "      <th>extraversion</th>\n",
       "      <th>nueroticism</th>\n",
       "      <th>openess_to_experience</th>\n",
       "    </tr>\n",
       "  </thead>\n",
       "  <tbody>\n",
       "    <tr>\n",
       "      <th>count</th>\n",
       "      <td>3.998000e+03</td>\n",
       "      <td>3.998000e+03</td>\n",
       "      <td>3998.000000</td>\n",
       "      <td>3998.000000</td>\n",
       "      <td>3998.000000</td>\n",
       "      <td>3998.000000</td>\n",
       "      <td>3998.000000</td>\n",
       "      <td>3998.000000</td>\n",
       "      <td>3998.000000</td>\n",
       "      <td>3998.000000</td>\n",
       "      <td>...</td>\n",
       "      <td>3998.000000</td>\n",
       "      <td>3998.000000</td>\n",
       "      <td>3998.000000</td>\n",
       "      <td>3998.000000</td>\n",
       "      <td>3998.000000</td>\n",
       "      <td>3998.000000</td>\n",
       "      <td>3998.000000</td>\n",
       "      <td>3998.000000</td>\n",
       "      <td>3998.000000</td>\n",
       "      <td>3998.000000</td>\n",
       "    </tr>\n",
       "    <tr>\n",
       "      <th>mean</th>\n",
       "      <td>6.637945e+05</td>\n",
       "      <td>3.076998e+05</td>\n",
       "      <td>77.925443</td>\n",
       "      <td>2008.087544</td>\n",
       "      <td>74.466366</td>\n",
       "      <td>5156.851426</td>\n",
       "      <td>1.925713</td>\n",
       "      <td>71.486171</td>\n",
       "      <td>5156.851426</td>\n",
       "      <td>0.300400</td>\n",
       "      <td>...</td>\n",
       "      <td>90.742371</td>\n",
       "      <td>22.974737</td>\n",
       "      <td>16.478739</td>\n",
       "      <td>31.851176</td>\n",
       "      <td>2.683842</td>\n",
       "      <td>-0.037831</td>\n",
       "      <td>0.146496</td>\n",
       "      <td>0.002763</td>\n",
       "      <td>-0.169033</td>\n",
       "      <td>-0.138110</td>\n",
       "    </tr>\n",
       "    <tr>\n",
       "      <th>std</th>\n",
       "      <td>3.632182e+05</td>\n",
       "      <td>2.127375e+05</td>\n",
       "      <td>9.850162</td>\n",
       "      <td>1.653599</td>\n",
       "      <td>10.999933</td>\n",
       "      <td>4802.261482</td>\n",
       "      <td>0.262270</td>\n",
       "      <td>8.167338</td>\n",
       "      <td>4802.261482</td>\n",
       "      <td>0.458489</td>\n",
       "      <td>...</td>\n",
       "      <td>175.273083</td>\n",
       "      <td>98.123311</td>\n",
       "      <td>87.585634</td>\n",
       "      <td>104.852845</td>\n",
       "      <td>36.658505</td>\n",
       "      <td>1.028666</td>\n",
       "      <td>0.941782</td>\n",
       "      <td>0.951471</td>\n",
       "      <td>1.007580</td>\n",
       "      <td>1.008075</td>\n",
       "    </tr>\n",
       "    <tr>\n",
       "      <th>min</th>\n",
       "      <td>1.124400e+04</td>\n",
       "      <td>3.500000e+04</td>\n",
       "      <td>43.000000</td>\n",
       "      <td>1995.000000</td>\n",
       "      <td>40.000000</td>\n",
       "      <td>2.000000</td>\n",
       "      <td>1.000000</td>\n",
       "      <td>6.450000</td>\n",
       "      <td>2.000000</td>\n",
       "      <td>0.000000</td>\n",
       "      <td>...</td>\n",
       "      <td>-1.000000</td>\n",
       "      <td>-1.000000</td>\n",
       "      <td>-1.000000</td>\n",
       "      <td>-1.000000</td>\n",
       "      <td>-1.000000</td>\n",
       "      <td>-4.126700</td>\n",
       "      <td>-5.781600</td>\n",
       "      <td>-4.600900</td>\n",
       "      <td>-2.643000</td>\n",
       "      <td>-7.375700</td>\n",
       "    </tr>\n",
       "    <tr>\n",
       "      <th>25%</th>\n",
       "      <td>3.342842e+05</td>\n",
       "      <td>1.800000e+05</td>\n",
       "      <td>71.680000</td>\n",
       "      <td>2007.000000</td>\n",
       "      <td>66.000000</td>\n",
       "      <td>494.000000</td>\n",
       "      <td>2.000000</td>\n",
       "      <td>66.407500</td>\n",
       "      <td>494.000000</td>\n",
       "      <td>0.000000</td>\n",
       "      <td>...</td>\n",
       "      <td>-1.000000</td>\n",
       "      <td>-1.000000</td>\n",
       "      <td>-1.000000</td>\n",
       "      <td>-1.000000</td>\n",
       "      <td>-1.000000</td>\n",
       "      <td>-0.713525</td>\n",
       "      <td>-0.287100</td>\n",
       "      <td>-0.604800</td>\n",
       "      <td>-0.868200</td>\n",
       "      <td>-0.669200</td>\n",
       "    </tr>\n",
       "    <tr>\n",
       "      <th>50%</th>\n",
       "      <td>6.396000e+05</td>\n",
       "      <td>3.000000e+05</td>\n",
       "      <td>79.150000</td>\n",
       "      <td>2008.000000</td>\n",
       "      <td>74.400000</td>\n",
       "      <td>3879.000000</td>\n",
       "      <td>2.000000</td>\n",
       "      <td>71.720000</td>\n",
       "      <td>3879.000000</td>\n",
       "      <td>0.000000</td>\n",
       "      <td>...</td>\n",
       "      <td>-1.000000</td>\n",
       "      <td>-1.000000</td>\n",
       "      <td>-1.000000</td>\n",
       "      <td>-1.000000</td>\n",
       "      <td>-1.000000</td>\n",
       "      <td>0.046400</td>\n",
       "      <td>0.212400</td>\n",
       "      <td>0.091400</td>\n",
       "      <td>-0.234400</td>\n",
       "      <td>-0.094300</td>\n",
       "    </tr>\n",
       "    <tr>\n",
       "      <th>75%</th>\n",
       "      <td>9.904800e+05</td>\n",
       "      <td>3.700000e+05</td>\n",
       "      <td>85.670000</td>\n",
       "      <td>2009.000000</td>\n",
       "      <td>82.600000</td>\n",
       "      <td>8818.000000</td>\n",
       "      <td>2.000000</td>\n",
       "      <td>76.327500</td>\n",
       "      <td>8818.000000</td>\n",
       "      <td>1.000000</td>\n",
       "      <td>...</td>\n",
       "      <td>-1.000000</td>\n",
       "      <td>-1.000000</td>\n",
       "      <td>-1.000000</td>\n",
       "      <td>-1.000000</td>\n",
       "      <td>-1.000000</td>\n",
       "      <td>0.702700</td>\n",
       "      <td>0.812800</td>\n",
       "      <td>0.672000</td>\n",
       "      <td>0.526200</td>\n",
       "      <td>0.502400</td>\n",
       "    </tr>\n",
       "    <tr>\n",
       "      <th>max</th>\n",
       "      <td>1.298275e+06</td>\n",
       "      <td>4.000000e+06</td>\n",
       "      <td>97.760000</td>\n",
       "      <td>2013.000000</td>\n",
       "      <td>98.700000</td>\n",
       "      <td>18409.000000</td>\n",
       "      <td>2.000000</td>\n",
       "      <td>99.930000</td>\n",
       "      <td>18409.000000</td>\n",
       "      <td>1.000000</td>\n",
       "      <td>...</td>\n",
       "      <td>715.000000</td>\n",
       "      <td>623.000000</td>\n",
       "      <td>676.000000</td>\n",
       "      <td>548.000000</td>\n",
       "      <td>516.000000</td>\n",
       "      <td>1.995300</td>\n",
       "      <td>1.904800</td>\n",
       "      <td>2.535400</td>\n",
       "      <td>3.352500</td>\n",
       "      <td>1.822400</td>\n",
       "    </tr>\n",
       "  </tbody>\n",
       "</table>\n",
       "<p>8 rows × 27 columns</p>\n",
       "</div>"
      ],
      "text/plain": [
       "                 ID        Salary  10percentage  12graduation  12percentage  \\\n",
       "count  3.998000e+03  3.998000e+03   3998.000000   3998.000000   3998.000000   \n",
       "mean   6.637945e+05  3.076998e+05     77.925443   2008.087544     74.466366   \n",
       "std    3.632182e+05  2.127375e+05      9.850162      1.653599     10.999933   \n",
       "min    1.124400e+04  3.500000e+04     43.000000   1995.000000     40.000000   \n",
       "25%    3.342842e+05  1.800000e+05     71.680000   2007.000000     66.000000   \n",
       "50%    6.396000e+05  3.000000e+05     79.150000   2008.000000     74.400000   \n",
       "75%    9.904800e+05  3.700000e+05     85.670000   2009.000000     82.600000   \n",
       "max    1.298275e+06  4.000000e+06     97.760000   2013.000000     98.700000   \n",
       "\n",
       "          CollegeID  CollegeTier   collegeGPA  CollegeCityID  CollegeCityTier  \\\n",
       "count   3998.000000  3998.000000  3998.000000    3998.000000      3998.000000   \n",
       "mean    5156.851426     1.925713    71.486171    5156.851426         0.300400   \n",
       "std     4802.261482     0.262270     8.167338    4802.261482         0.458489   \n",
       "min        2.000000     1.000000     6.450000       2.000000         0.000000   \n",
       "25%      494.000000     2.000000    66.407500     494.000000         0.000000   \n",
       "50%     3879.000000     2.000000    71.720000    3879.000000         0.000000   \n",
       "75%     8818.000000     2.000000    76.327500    8818.000000         1.000000   \n",
       "max    18409.000000     2.000000    99.930000   18409.000000         1.000000   \n",
       "\n",
       "       ...  ComputerScience  MechanicalEngg  ElectricalEngg  TelecomEngg  \\\n",
       "count  ...      3998.000000     3998.000000     3998.000000  3998.000000   \n",
       "mean   ...        90.742371       22.974737       16.478739    31.851176   \n",
       "std    ...       175.273083       98.123311       87.585634   104.852845   \n",
       "min    ...        -1.000000       -1.000000       -1.000000    -1.000000   \n",
       "25%    ...        -1.000000       -1.000000       -1.000000    -1.000000   \n",
       "50%    ...        -1.000000       -1.000000       -1.000000    -1.000000   \n",
       "75%    ...        -1.000000       -1.000000       -1.000000    -1.000000   \n",
       "max    ...       715.000000      623.000000      676.000000   548.000000   \n",
       "\n",
       "         CivilEngg  conscientiousness  agreeableness  extraversion  \\\n",
       "count  3998.000000        3998.000000    3998.000000   3998.000000   \n",
       "mean      2.683842          -0.037831       0.146496      0.002763   \n",
       "std      36.658505           1.028666       0.941782      0.951471   \n",
       "min      -1.000000          -4.126700      -5.781600     -4.600900   \n",
       "25%      -1.000000          -0.713525      -0.287100     -0.604800   \n",
       "50%      -1.000000           0.046400       0.212400      0.091400   \n",
       "75%      -1.000000           0.702700       0.812800      0.672000   \n",
       "max     516.000000           1.995300       1.904800      2.535400   \n",
       "\n",
       "       nueroticism  openess_to_experience  \n",
       "count  3998.000000            3998.000000  \n",
       "mean     -0.169033              -0.138110  \n",
       "std       1.007580               1.008075  \n",
       "min      -2.643000              -7.375700  \n",
       "25%      -0.868200              -0.669200  \n",
       "50%      -0.234400              -0.094300  \n",
       "75%       0.526200               0.502400  \n",
       "max       3.352500               1.822400  \n",
       "\n",
       "[8 rows x 27 columns]"
      ]
     },
     "execution_count": 5,
     "metadata": {},
     "output_type": "execute_result"
    }
   ],
   "source": [
    "df.describe()\n",
    "#statistics of all the numerical columns."
   ]
  },
  {
   "cell_type": "code",
   "execution_count": 6,
   "metadata": {},
   "outputs": [
    {
     "name": "stdout",
     "output_type": "stream",
     "text": [
      "<class 'pandas.core.frame.DataFrame'>\n",
      "RangeIndex: 3998 entries, 0 to 3997\n",
      "Data columns (total 39 columns):\n",
      " #   Column                 Non-Null Count  Dtype         \n",
      "---  ------                 --------------  -----         \n",
      " 0   Unnamed: 0             3998 non-null   object        \n",
      " 1   ID                     3998 non-null   int64         \n",
      " 2   Salary                 3998 non-null   int64         \n",
      " 3   DOJ                    3998 non-null   datetime64[ns]\n",
      " 4   DOL                    3998 non-null   object        \n",
      " 5   Designation            3998 non-null   object        \n",
      " 6   JobCity                3998 non-null   object        \n",
      " 7   Gender                 3998 non-null   object        \n",
      " 8   DOB                    3998 non-null   datetime64[ns]\n",
      " 9   10percentage           3998 non-null   float64       \n",
      " 10  10board                3998 non-null   object        \n",
      " 11  12graduation           3998 non-null   int64         \n",
      " 12  12percentage           3998 non-null   float64       \n",
      " 13  12board                3998 non-null   object        \n",
      " 14  CollegeID              3998 non-null   int64         \n",
      " 15  CollegeTier            3998 non-null   int64         \n",
      " 16  Degree                 3998 non-null   object        \n",
      " 17  Specialization         3998 non-null   object        \n",
      " 18  collegeGPA             3998 non-null   float64       \n",
      " 19  CollegeCityID          3998 non-null   int64         \n",
      " 20  CollegeCityTier        3998 non-null   int64         \n",
      " 21  CollegeState           3998 non-null   object        \n",
      " 22  GraduationYear         3998 non-null   int64         \n",
      " 23  English                3998 non-null   int64         \n",
      " 24  Logical                3998 non-null   int64         \n",
      " 25  Quant                  3998 non-null   int64         \n",
      " 26  Domain                 3998 non-null   float64       \n",
      " 27  ComputerProgramming    3998 non-null   int64         \n",
      " 28  ElectronicsAndSemicon  3998 non-null   int64         \n",
      " 29  ComputerScience        3998 non-null   int64         \n",
      " 30  MechanicalEngg         3998 non-null   int64         \n",
      " 31  ElectricalEngg         3998 non-null   int64         \n",
      " 32  TelecomEngg            3998 non-null   int64         \n",
      " 33  CivilEngg              3998 non-null   int64         \n",
      " 34  conscientiousness      3998 non-null   float64       \n",
      " 35  agreeableness          3998 non-null   float64       \n",
      " 36  extraversion           3998 non-null   float64       \n",
      " 37  nueroticism            3998 non-null   float64       \n",
      " 38  openess_to_experience  3998 non-null   float64       \n",
      "dtypes: datetime64[ns](2), float64(9), int64(18), object(10)\n",
      "memory usage: 1.2+ MB\n"
     ]
    }
   ],
   "source": [
    "df.info()"
   ]
  },
  {
   "cell_type": "code",
   "execution_count": 7,
   "metadata": {},
   "outputs": [
    {
     "data": {
      "text/plain": [
       "Index(['Unnamed: 0', 'ID', 'Salary', 'DOJ', 'DOL', 'Designation', 'JobCity',\n",
       "       'Gender', 'DOB', '10percentage', '10board', '12graduation',\n",
       "       '12percentage', '12board', 'CollegeID', 'CollegeTier', 'Degree',\n",
       "       'Specialization', 'collegeGPA', 'CollegeCityID', 'CollegeCityTier',\n",
       "       'CollegeState', 'GraduationYear', 'English', 'Logical', 'Quant',\n",
       "       'Domain', 'ComputerProgramming', 'ElectronicsAndSemicon',\n",
       "       'ComputerScience', 'MechanicalEngg', 'ElectricalEngg', 'TelecomEngg',\n",
       "       'CivilEngg', 'conscientiousness', 'agreeableness', 'extraversion',\n",
       "       'nueroticism', 'openess_to_experience'],\n",
       "      dtype='object')"
      ]
     },
     "execution_count": 7,
     "metadata": {},
     "output_type": "execute_result"
    }
   ],
   "source": [
    "df.columns"
   ]
  },
  {
   "cell_type": "markdown",
   "metadata": {},
   "source": [
    "## Features of the dataset\n",
    "1. There are 3998 rows and 39 columns.\n",
    "2. This is a data of all the candidates in the year 2015 who gave the AMCAT test.\n",
    "3. We can see the details of the candidate like their id, city, gender, date of birth.\n",
    "4. We can see the candidate's education details like class 10th percentage, 12th percentage as well as graduation details like college gpa, college city, college tier, specialization,graduation year and stream. \n",
    "5. There are no null values. "
   ]
  },
  {
   "cell_type": "code",
   "execution_count": 8,
   "metadata": {
    "scrolled": true
   },
   "outputs": [
    {
     "data": {
      "text/plain": [
       "2    3701\n",
       "1     297\n",
       "Name: CollegeTier, dtype: int64"
      ]
     },
     "execution_count": 8,
     "metadata": {},
     "output_type": "execute_result"
    }
   ],
   "source": [
    "df['CollegeTier'].value_counts()"
   ]
  },
  {
   "cell_type": "markdown",
   "metadata": {},
   "source": [
    "We now know that there are 2 types of the colleges:\n",
    "1. Tier 1\n",
    "2. Tier 2\n",
    "There are 3701 candidates from Tier 2 college and 297 candidates from Tier 1 college.\n",
    "\n",
    "### OBJECTIVE\n",
    "Given:\n",
    "1. College Tier\n",
    "2. College City\n",
    "3. Domain\n",
    "\n",
    "\n",
    "Target: Average salary package"
   ]
  },
  {
   "cell_type": "code",
   "execution_count": 9,
   "metadata": {},
   "outputs": [
    {
     "data": {
      "text/plain": [
       "array([2, 1], dtype=int64)"
      ]
     },
     "execution_count": 9,
     "metadata": {},
     "output_type": "execute_result"
    }
   ],
   "source": [
    "df['CollegeTier'].unique()"
   ]
  },
  {
   "cell_type": "markdown",
   "metadata": {},
   "source": [
    "# Univariate Analysis\n"
   ]
  },
  {
   "cell_type": "code",
   "execution_count": 10,
   "metadata": {},
   "outputs": [
    {
     "data": {
      "text/html": [
       "<div>\n",
       "<style scoped>\n",
       "    .dataframe tbody tr th:only-of-type {\n",
       "        vertical-align: middle;\n",
       "    }\n",
       "\n",
       "    .dataframe tbody tr th {\n",
       "        vertical-align: top;\n",
       "    }\n",
       "\n",
       "    .dataframe thead th {\n",
       "        text-align: right;\n",
       "    }\n",
       "</style>\n",
       "<table border=\"1\" class=\"dataframe\">\n",
       "  <thead>\n",
       "    <tr style=\"text-align: right;\">\n",
       "      <th></th>\n",
       "      <th>Salary</th>\n",
       "      <th>CollegeTier</th>\n",
       "    </tr>\n",
       "  </thead>\n",
       "  <tbody>\n",
       "    <tr>\n",
       "      <th>0</th>\n",
       "      <td>420000</td>\n",
       "      <td>2</td>\n",
       "    </tr>\n",
       "    <tr>\n",
       "      <th>1</th>\n",
       "      <td>500000</td>\n",
       "      <td>2</td>\n",
       "    </tr>\n",
       "    <tr>\n",
       "      <th>2</th>\n",
       "      <td>325000</td>\n",
       "      <td>2</td>\n",
       "    </tr>\n",
       "    <tr>\n",
       "      <th>3</th>\n",
       "      <td>1100000</td>\n",
       "      <td>1</td>\n",
       "    </tr>\n",
       "    <tr>\n",
       "      <th>4</th>\n",
       "      <td>200000</td>\n",
       "      <td>2</td>\n",
       "    </tr>\n",
       "    <tr>\n",
       "      <th>...</th>\n",
       "      <td>...</td>\n",
       "      <td>...</td>\n",
       "    </tr>\n",
       "    <tr>\n",
       "      <th>3993</th>\n",
       "      <td>280000</td>\n",
       "      <td>2</td>\n",
       "    </tr>\n",
       "    <tr>\n",
       "      <th>3994</th>\n",
       "      <td>100000</td>\n",
       "      <td>2</td>\n",
       "    </tr>\n",
       "    <tr>\n",
       "      <th>3995</th>\n",
       "      <td>320000</td>\n",
       "      <td>2</td>\n",
       "    </tr>\n",
       "    <tr>\n",
       "      <th>3996</th>\n",
       "      <td>200000</td>\n",
       "      <td>2</td>\n",
       "    </tr>\n",
       "    <tr>\n",
       "      <th>3997</th>\n",
       "      <td>400000</td>\n",
       "      <td>2</td>\n",
       "    </tr>\n",
       "  </tbody>\n",
       "</table>\n",
       "<p>3998 rows × 2 columns</p>\n",
       "</div>"
      ],
      "text/plain": [
       "       Salary  CollegeTier\n",
       "0      420000            2\n",
       "1      500000            2\n",
       "2      325000            2\n",
       "3     1100000            1\n",
       "4      200000            2\n",
       "...       ...          ...\n",
       "3993   280000            2\n",
       "3994   100000            2\n",
       "3995   320000            2\n",
       "3996   200000            2\n",
       "3997   400000            2\n",
       "\n",
       "[3998 rows x 2 columns]"
      ]
     },
     "execution_count": 10,
     "metadata": {},
     "output_type": "execute_result"
    }
   ],
   "source": [
    "df.iloc[:,[2,15]]"
   ]
  },
  {
   "cell_type": "markdown",
   "metadata": {},
   "source": [
    "### Finding outliers in each numerical column\n",
    "Usage: Seaborn, MatplotLib"
   ]
  },
  {
   "cell_type": "code",
   "execution_count": 11,
   "metadata": {
    "scrolled": false
   },
   "outputs": [
    {
     "data": {
      "text/html": [
       "<div>\n",
       "<style scoped>\n",
       "    .dataframe tbody tr th:only-of-type {\n",
       "        vertical-align: middle;\n",
       "    }\n",
       "\n",
       "    .dataframe tbody tr th {\n",
       "        vertical-align: top;\n",
       "    }\n",
       "\n",
       "    .dataframe thead th {\n",
       "        text-align: right;\n",
       "    }\n",
       "</style>\n",
       "<table border=\"1\" class=\"dataframe\">\n",
       "  <thead>\n",
       "    <tr style=\"text-align: right;\">\n",
       "      <th></th>\n",
       "      <th>ID</th>\n",
       "      <th>Salary</th>\n",
       "      <th>10percentage</th>\n",
       "      <th>12graduation</th>\n",
       "      <th>12percentage</th>\n",
       "      <th>CollegeID</th>\n",
       "      <th>CollegeTier</th>\n",
       "      <th>collegeGPA</th>\n",
       "      <th>CollegeCityID</th>\n",
       "      <th>CollegeCityTier</th>\n",
       "      <th>...</th>\n",
       "      <th>ComputerScience</th>\n",
       "      <th>MechanicalEngg</th>\n",
       "      <th>ElectricalEngg</th>\n",
       "      <th>TelecomEngg</th>\n",
       "      <th>CivilEngg</th>\n",
       "      <th>conscientiousness</th>\n",
       "      <th>agreeableness</th>\n",
       "      <th>extraversion</th>\n",
       "      <th>nueroticism</th>\n",
       "      <th>openess_to_experience</th>\n",
       "    </tr>\n",
       "  </thead>\n",
       "  <tbody>\n",
       "    <tr>\n",
       "      <th>0</th>\n",
       "      <td>203097</td>\n",
       "      <td>420000</td>\n",
       "      <td>84.3</td>\n",
       "      <td>2007</td>\n",
       "      <td>95.8</td>\n",
       "      <td>1141</td>\n",
       "      <td>2</td>\n",
       "      <td>78.00</td>\n",
       "      <td>1141</td>\n",
       "      <td>0</td>\n",
       "      <td>...</td>\n",
       "      <td>-1</td>\n",
       "      <td>-1</td>\n",
       "      <td>-1</td>\n",
       "      <td>-1</td>\n",
       "      <td>-1</td>\n",
       "      <td>0.9737</td>\n",
       "      <td>0.8128</td>\n",
       "      <td>0.5269</td>\n",
       "      <td>1.35490</td>\n",
       "      <td>-0.4455</td>\n",
       "    </tr>\n",
       "    <tr>\n",
       "      <th>1</th>\n",
       "      <td>579905</td>\n",
       "      <td>500000</td>\n",
       "      <td>85.4</td>\n",
       "      <td>2007</td>\n",
       "      <td>85.0</td>\n",
       "      <td>5807</td>\n",
       "      <td>2</td>\n",
       "      <td>70.06</td>\n",
       "      <td>5807</td>\n",
       "      <td>0</td>\n",
       "      <td>...</td>\n",
       "      <td>-1</td>\n",
       "      <td>-1</td>\n",
       "      <td>-1</td>\n",
       "      <td>-1</td>\n",
       "      <td>-1</td>\n",
       "      <td>-0.7335</td>\n",
       "      <td>0.3789</td>\n",
       "      <td>1.2396</td>\n",
       "      <td>-0.10760</td>\n",
       "      <td>0.8637</td>\n",
       "    </tr>\n",
       "    <tr>\n",
       "      <th>2</th>\n",
       "      <td>810601</td>\n",
       "      <td>325000</td>\n",
       "      <td>85.0</td>\n",
       "      <td>2010</td>\n",
       "      <td>68.2</td>\n",
       "      <td>64</td>\n",
       "      <td>2</td>\n",
       "      <td>70.00</td>\n",
       "      <td>64</td>\n",
       "      <td>0</td>\n",
       "      <td>...</td>\n",
       "      <td>-1</td>\n",
       "      <td>-1</td>\n",
       "      <td>-1</td>\n",
       "      <td>-1</td>\n",
       "      <td>-1</td>\n",
       "      <td>0.2718</td>\n",
       "      <td>1.7109</td>\n",
       "      <td>0.1637</td>\n",
       "      <td>-0.86820</td>\n",
       "      <td>0.6721</td>\n",
       "    </tr>\n",
       "    <tr>\n",
       "      <th>3</th>\n",
       "      <td>267447</td>\n",
       "      <td>1100000</td>\n",
       "      <td>85.6</td>\n",
       "      <td>2007</td>\n",
       "      <td>83.6</td>\n",
       "      <td>6920</td>\n",
       "      <td>1</td>\n",
       "      <td>74.64</td>\n",
       "      <td>6920</td>\n",
       "      <td>1</td>\n",
       "      <td>...</td>\n",
       "      <td>-1</td>\n",
       "      <td>-1</td>\n",
       "      <td>-1</td>\n",
       "      <td>-1</td>\n",
       "      <td>-1</td>\n",
       "      <td>0.0464</td>\n",
       "      <td>0.3448</td>\n",
       "      <td>-0.3440</td>\n",
       "      <td>-0.40780</td>\n",
       "      <td>-0.9194</td>\n",
       "    </tr>\n",
       "    <tr>\n",
       "      <th>4</th>\n",
       "      <td>343523</td>\n",
       "      <td>200000</td>\n",
       "      <td>78.0</td>\n",
       "      <td>2008</td>\n",
       "      <td>76.8</td>\n",
       "      <td>11368</td>\n",
       "      <td>2</td>\n",
       "      <td>73.90</td>\n",
       "      <td>11368</td>\n",
       "      <td>0</td>\n",
       "      <td>...</td>\n",
       "      <td>-1</td>\n",
       "      <td>-1</td>\n",
       "      <td>-1</td>\n",
       "      <td>-1</td>\n",
       "      <td>-1</td>\n",
       "      <td>-0.8810</td>\n",
       "      <td>-0.2793</td>\n",
       "      <td>-1.0697</td>\n",
       "      <td>0.09163</td>\n",
       "      <td>-0.1295</td>\n",
       "    </tr>\n",
       "  </tbody>\n",
       "</table>\n",
       "<p>5 rows × 27 columns</p>\n",
       "</div>"
      ],
      "text/plain": [
       "       ID   Salary  10percentage  12graduation  12percentage  CollegeID  \\\n",
       "0  203097   420000          84.3          2007          95.8       1141   \n",
       "1  579905   500000          85.4          2007          85.0       5807   \n",
       "2  810601   325000          85.0          2010          68.2         64   \n",
       "3  267447  1100000          85.6          2007          83.6       6920   \n",
       "4  343523   200000          78.0          2008          76.8      11368   \n",
       "\n",
       "   CollegeTier  collegeGPA  CollegeCityID  CollegeCityTier  ...  \\\n",
       "0            2       78.00           1141                0  ...   \n",
       "1            2       70.06           5807                0  ...   \n",
       "2            2       70.00             64                0  ...   \n",
       "3            1       74.64           6920                1  ...   \n",
       "4            2       73.90          11368                0  ...   \n",
       "\n",
       "   ComputerScience  MechanicalEngg  ElectricalEngg  TelecomEngg  CivilEngg  \\\n",
       "0               -1              -1              -1           -1         -1   \n",
       "1               -1              -1              -1           -1         -1   \n",
       "2               -1              -1              -1           -1         -1   \n",
       "3               -1              -1              -1           -1         -1   \n",
       "4               -1              -1              -1           -1         -1   \n",
       "\n",
       "   conscientiousness  agreeableness  extraversion  nueroticism  \\\n",
       "0             0.9737         0.8128        0.5269      1.35490   \n",
       "1            -0.7335         0.3789        1.2396     -0.10760   \n",
       "2             0.2718         1.7109        0.1637     -0.86820   \n",
       "3             0.0464         0.3448       -0.3440     -0.40780   \n",
       "4            -0.8810        -0.2793       -1.0697      0.09163   \n",
       "\n",
       "   openess_to_experience  \n",
       "0                -0.4455  \n",
       "1                 0.8637  \n",
       "2                 0.6721  \n",
       "3                -0.9194  \n",
       "4                -0.1295  \n",
       "\n",
       "[5 rows x 27 columns]"
      ]
     },
     "execution_count": 11,
     "metadata": {},
     "output_type": "execute_result"
    }
   ],
   "source": [
    "#Find the outliers in each numerical column\n",
    "#Understand the frequency distribution of each categorical Variable/Column\n",
    "\n",
    "\n",
    "#Finding the numerical data\n",
    "numerics = ['int16', 'int32', 'int64', 'float16', 'float32', 'float64']\n",
    "\n",
    "newdf = df.select_dtypes(include=numerics)\n",
    "newdf.head()"
   ]
  },
  {
   "cell_type": "code",
   "execution_count": 12,
   "metadata": {
    "scrolled": true
   },
   "outputs": [
    {
     "data": {
      "text/html": [
       "<div>\n",
       "<style scoped>\n",
       "    .dataframe tbody tr th:only-of-type {\n",
       "        vertical-align: middle;\n",
       "    }\n",
       "\n",
       "    .dataframe tbody tr th {\n",
       "        vertical-align: top;\n",
       "    }\n",
       "\n",
       "    .dataframe thead th {\n",
       "        text-align: right;\n",
       "    }\n",
       "</style>\n",
       "<table border=\"1\" class=\"dataframe\">\n",
       "  <thead>\n",
       "    <tr style=\"text-align: right;\">\n",
       "      <th></th>\n",
       "      <th>ID</th>\n",
       "      <th>Salary</th>\n",
       "      <th>10percentage</th>\n",
       "      <th>12graduation</th>\n",
       "      <th>12percentage</th>\n",
       "      <th>CollegeID</th>\n",
       "      <th>CollegeTier</th>\n",
       "      <th>collegeGPA</th>\n",
       "      <th>CollegeCityID</th>\n",
       "      <th>CollegeCityTier</th>\n",
       "      <th>...</th>\n",
       "      <th>ComputerScience</th>\n",
       "      <th>MechanicalEngg</th>\n",
       "      <th>ElectricalEngg</th>\n",
       "      <th>TelecomEngg</th>\n",
       "      <th>CivilEngg</th>\n",
       "      <th>conscientiousness</th>\n",
       "      <th>agreeableness</th>\n",
       "      <th>extraversion</th>\n",
       "      <th>nueroticism</th>\n",
       "      <th>openess_to_experience</th>\n",
       "    </tr>\n",
       "  </thead>\n",
       "  <tbody>\n",
       "    <tr>\n",
       "      <th>count</th>\n",
       "      <td>3.998000e+03</td>\n",
       "      <td>3.998000e+03</td>\n",
       "      <td>3998.000000</td>\n",
       "      <td>3998.000000</td>\n",
       "      <td>3998.000000</td>\n",
       "      <td>3998.000000</td>\n",
       "      <td>3998.000000</td>\n",
       "      <td>3998.000000</td>\n",
       "      <td>3998.000000</td>\n",
       "      <td>3998.000000</td>\n",
       "      <td>...</td>\n",
       "      <td>3998.000000</td>\n",
       "      <td>3998.000000</td>\n",
       "      <td>3998.000000</td>\n",
       "      <td>3998.000000</td>\n",
       "      <td>3998.000000</td>\n",
       "      <td>3998.000000</td>\n",
       "      <td>3998.000000</td>\n",
       "      <td>3998.000000</td>\n",
       "      <td>3998.000000</td>\n",
       "      <td>3998.000000</td>\n",
       "    </tr>\n",
       "    <tr>\n",
       "      <th>mean</th>\n",
       "      <td>6.637945e+05</td>\n",
       "      <td>3.076998e+05</td>\n",
       "      <td>77.925443</td>\n",
       "      <td>2008.087544</td>\n",
       "      <td>74.466366</td>\n",
       "      <td>5156.851426</td>\n",
       "      <td>1.925713</td>\n",
       "      <td>71.486171</td>\n",
       "      <td>5156.851426</td>\n",
       "      <td>0.300400</td>\n",
       "      <td>...</td>\n",
       "      <td>90.742371</td>\n",
       "      <td>22.974737</td>\n",
       "      <td>16.478739</td>\n",
       "      <td>31.851176</td>\n",
       "      <td>2.683842</td>\n",
       "      <td>-0.037831</td>\n",
       "      <td>0.146496</td>\n",
       "      <td>0.002763</td>\n",
       "      <td>-0.169033</td>\n",
       "      <td>-0.138110</td>\n",
       "    </tr>\n",
       "    <tr>\n",
       "      <th>std</th>\n",
       "      <td>3.632182e+05</td>\n",
       "      <td>2.127375e+05</td>\n",
       "      <td>9.850162</td>\n",
       "      <td>1.653599</td>\n",
       "      <td>10.999933</td>\n",
       "      <td>4802.261482</td>\n",
       "      <td>0.262270</td>\n",
       "      <td>8.167338</td>\n",
       "      <td>4802.261482</td>\n",
       "      <td>0.458489</td>\n",
       "      <td>...</td>\n",
       "      <td>175.273083</td>\n",
       "      <td>98.123311</td>\n",
       "      <td>87.585634</td>\n",
       "      <td>104.852845</td>\n",
       "      <td>36.658505</td>\n",
       "      <td>1.028666</td>\n",
       "      <td>0.941782</td>\n",
       "      <td>0.951471</td>\n",
       "      <td>1.007580</td>\n",
       "      <td>1.008075</td>\n",
       "    </tr>\n",
       "    <tr>\n",
       "      <th>min</th>\n",
       "      <td>1.124400e+04</td>\n",
       "      <td>3.500000e+04</td>\n",
       "      <td>43.000000</td>\n",
       "      <td>1995.000000</td>\n",
       "      <td>40.000000</td>\n",
       "      <td>2.000000</td>\n",
       "      <td>1.000000</td>\n",
       "      <td>6.450000</td>\n",
       "      <td>2.000000</td>\n",
       "      <td>0.000000</td>\n",
       "      <td>...</td>\n",
       "      <td>-1.000000</td>\n",
       "      <td>-1.000000</td>\n",
       "      <td>-1.000000</td>\n",
       "      <td>-1.000000</td>\n",
       "      <td>-1.000000</td>\n",
       "      <td>-4.126700</td>\n",
       "      <td>-5.781600</td>\n",
       "      <td>-4.600900</td>\n",
       "      <td>-2.643000</td>\n",
       "      <td>-7.375700</td>\n",
       "    </tr>\n",
       "    <tr>\n",
       "      <th>25%</th>\n",
       "      <td>3.342842e+05</td>\n",
       "      <td>1.800000e+05</td>\n",
       "      <td>71.680000</td>\n",
       "      <td>2007.000000</td>\n",
       "      <td>66.000000</td>\n",
       "      <td>494.000000</td>\n",
       "      <td>2.000000</td>\n",
       "      <td>66.407500</td>\n",
       "      <td>494.000000</td>\n",
       "      <td>0.000000</td>\n",
       "      <td>...</td>\n",
       "      <td>-1.000000</td>\n",
       "      <td>-1.000000</td>\n",
       "      <td>-1.000000</td>\n",
       "      <td>-1.000000</td>\n",
       "      <td>-1.000000</td>\n",
       "      <td>-0.713525</td>\n",
       "      <td>-0.287100</td>\n",
       "      <td>-0.604800</td>\n",
       "      <td>-0.868200</td>\n",
       "      <td>-0.669200</td>\n",
       "    </tr>\n",
       "    <tr>\n",
       "      <th>50%</th>\n",
       "      <td>6.396000e+05</td>\n",
       "      <td>3.000000e+05</td>\n",
       "      <td>79.150000</td>\n",
       "      <td>2008.000000</td>\n",
       "      <td>74.400000</td>\n",
       "      <td>3879.000000</td>\n",
       "      <td>2.000000</td>\n",
       "      <td>71.720000</td>\n",
       "      <td>3879.000000</td>\n",
       "      <td>0.000000</td>\n",
       "      <td>...</td>\n",
       "      <td>-1.000000</td>\n",
       "      <td>-1.000000</td>\n",
       "      <td>-1.000000</td>\n",
       "      <td>-1.000000</td>\n",
       "      <td>-1.000000</td>\n",
       "      <td>0.046400</td>\n",
       "      <td>0.212400</td>\n",
       "      <td>0.091400</td>\n",
       "      <td>-0.234400</td>\n",
       "      <td>-0.094300</td>\n",
       "    </tr>\n",
       "    <tr>\n",
       "      <th>75%</th>\n",
       "      <td>9.904800e+05</td>\n",
       "      <td>3.700000e+05</td>\n",
       "      <td>85.670000</td>\n",
       "      <td>2009.000000</td>\n",
       "      <td>82.600000</td>\n",
       "      <td>8818.000000</td>\n",
       "      <td>2.000000</td>\n",
       "      <td>76.327500</td>\n",
       "      <td>8818.000000</td>\n",
       "      <td>1.000000</td>\n",
       "      <td>...</td>\n",
       "      <td>-1.000000</td>\n",
       "      <td>-1.000000</td>\n",
       "      <td>-1.000000</td>\n",
       "      <td>-1.000000</td>\n",
       "      <td>-1.000000</td>\n",
       "      <td>0.702700</td>\n",
       "      <td>0.812800</td>\n",
       "      <td>0.672000</td>\n",
       "      <td>0.526200</td>\n",
       "      <td>0.502400</td>\n",
       "    </tr>\n",
       "    <tr>\n",
       "      <th>max</th>\n",
       "      <td>1.298275e+06</td>\n",
       "      <td>4.000000e+06</td>\n",
       "      <td>97.760000</td>\n",
       "      <td>2013.000000</td>\n",
       "      <td>98.700000</td>\n",
       "      <td>18409.000000</td>\n",
       "      <td>2.000000</td>\n",
       "      <td>99.930000</td>\n",
       "      <td>18409.000000</td>\n",
       "      <td>1.000000</td>\n",
       "      <td>...</td>\n",
       "      <td>715.000000</td>\n",
       "      <td>623.000000</td>\n",
       "      <td>676.000000</td>\n",
       "      <td>548.000000</td>\n",
       "      <td>516.000000</td>\n",
       "      <td>1.995300</td>\n",
       "      <td>1.904800</td>\n",
       "      <td>2.535400</td>\n",
       "      <td>3.352500</td>\n",
       "      <td>1.822400</td>\n",
       "    </tr>\n",
       "  </tbody>\n",
       "</table>\n",
       "<p>8 rows × 27 columns</p>\n",
       "</div>"
      ],
      "text/plain": [
       "                 ID        Salary  10percentage  12graduation  12percentage  \\\n",
       "count  3.998000e+03  3.998000e+03   3998.000000   3998.000000   3998.000000   \n",
       "mean   6.637945e+05  3.076998e+05     77.925443   2008.087544     74.466366   \n",
       "std    3.632182e+05  2.127375e+05      9.850162      1.653599     10.999933   \n",
       "min    1.124400e+04  3.500000e+04     43.000000   1995.000000     40.000000   \n",
       "25%    3.342842e+05  1.800000e+05     71.680000   2007.000000     66.000000   \n",
       "50%    6.396000e+05  3.000000e+05     79.150000   2008.000000     74.400000   \n",
       "75%    9.904800e+05  3.700000e+05     85.670000   2009.000000     82.600000   \n",
       "max    1.298275e+06  4.000000e+06     97.760000   2013.000000     98.700000   \n",
       "\n",
       "          CollegeID  CollegeTier   collegeGPA  CollegeCityID  CollegeCityTier  \\\n",
       "count   3998.000000  3998.000000  3998.000000    3998.000000      3998.000000   \n",
       "mean    5156.851426     1.925713    71.486171    5156.851426         0.300400   \n",
       "std     4802.261482     0.262270     8.167338    4802.261482         0.458489   \n",
       "min        2.000000     1.000000     6.450000       2.000000         0.000000   \n",
       "25%      494.000000     2.000000    66.407500     494.000000         0.000000   \n",
       "50%     3879.000000     2.000000    71.720000    3879.000000         0.000000   \n",
       "75%     8818.000000     2.000000    76.327500    8818.000000         1.000000   \n",
       "max    18409.000000     2.000000    99.930000   18409.000000         1.000000   \n",
       "\n",
       "       ...  ComputerScience  MechanicalEngg  ElectricalEngg  TelecomEngg  \\\n",
       "count  ...      3998.000000     3998.000000     3998.000000  3998.000000   \n",
       "mean   ...        90.742371       22.974737       16.478739    31.851176   \n",
       "std    ...       175.273083       98.123311       87.585634   104.852845   \n",
       "min    ...        -1.000000       -1.000000       -1.000000    -1.000000   \n",
       "25%    ...        -1.000000       -1.000000       -1.000000    -1.000000   \n",
       "50%    ...        -1.000000       -1.000000       -1.000000    -1.000000   \n",
       "75%    ...        -1.000000       -1.000000       -1.000000    -1.000000   \n",
       "max    ...       715.000000      623.000000      676.000000   548.000000   \n",
       "\n",
       "         CivilEngg  conscientiousness  agreeableness  extraversion  \\\n",
       "count  3998.000000        3998.000000    3998.000000   3998.000000   \n",
       "mean      2.683842          -0.037831       0.146496      0.002763   \n",
       "std      36.658505           1.028666       0.941782      0.951471   \n",
       "min      -1.000000          -4.126700      -5.781600     -4.600900   \n",
       "25%      -1.000000          -0.713525      -0.287100     -0.604800   \n",
       "50%      -1.000000           0.046400       0.212400      0.091400   \n",
       "75%      -1.000000           0.702700       0.812800      0.672000   \n",
       "max     516.000000           1.995300       1.904800      2.535400   \n",
       "\n",
       "       nueroticism  openess_to_experience  \n",
       "count  3998.000000            3998.000000  \n",
       "mean     -0.169033              -0.138110  \n",
       "std       1.007580               1.008075  \n",
       "min      -2.643000              -7.375700  \n",
       "25%      -0.868200              -0.669200  \n",
       "50%      -0.234400              -0.094300  \n",
       "75%       0.526200               0.502400  \n",
       "max       3.352500               1.822400  \n",
       "\n",
       "[8 rows x 27 columns]"
      ]
     },
     "execution_count": 12,
     "metadata": {},
     "output_type": "execute_result"
    }
   ],
   "source": [
    "newdf.describe()"
   ]
  },
  {
   "cell_type": "code",
   "execution_count": 13,
   "metadata": {
    "scrolled": true
   },
   "outputs": [
    {
     "data": {
      "text/plain": [
       "{'whiskers': [<matplotlib.lines.Line2D at 0x296b3faef48>,\n",
       "  <matplotlib.lines.Line2D at 0x296b3faeb88>],\n",
       " 'caps': [<matplotlib.lines.Line2D at 0x296b3fb9d88>,\n",
       "  <matplotlib.lines.Line2D at 0x296b3fb9e88>],\n",
       " 'boxes': [<matplotlib.lines.Line2D at 0x296b3f9ed88>],\n",
       " 'medians': [<matplotlib.lines.Line2D at 0x296b3fb9f48>],\n",
       " 'fliers': [<matplotlib.lines.Line2D at 0x296b3fbffc8>],\n",
       " 'means': []}"
      ]
     },
     "execution_count": 13,
     "metadata": {},
     "output_type": "execute_result"
    },
    {
     "data": {
      "image/png": "[encoded data removed]",
      "text/plain": [
       "<Figure size 432x288 with 1 Axes>"
      ]
     },
     "metadata": {
      "needs_background": "light"
     },
     "output_type": "display_data"
    }
   ],
   "source": [
    "plt.boxplot(newdf['Salary'])\n",
    "#Inference: There are a lot of candidates who have salaries more than 5lpa"
   ]
  },
  {
   "cell_type": "code",
   "execution_count": 14,
   "metadata": {
    "scrolled": true
   },
   "outputs": [
    {
     "data": {
      "text/plain": [
       "<matplotlib.axes._subplots.AxesSubplot at 0x296b400ef88>"
      ]
     },
     "execution_count": 14,
     "metadata": {},
     "output_type": "execute_result"
    },
    {
     "data": {
      "image/png": "[encoded data removed]",
      "text/plain": [
       "<Figure size 432x288 with 1 Axes>"
      ]
     },
     "metadata": {
      "needs_background": "light"
     },
     "output_type": "display_data"
    }
   ],
   "source": [
    "sns.boxplot(newdf['10percentage'])"
   ]
  },
  {
   "cell_type": "code",
   "execution_count": 15,
   "metadata": {
    "scrolled": true
   },
   "outputs": [
    {
     "data": {
      "text/plain": [
       "<matplotlib.axes._subplots.AxesSubplot at 0x296b40374c8>"
      ]
     },
     "execution_count": 15,
     "metadata": {},
     "output_type": "execute_result"
    },
    {
     "data": {
      "image/png": "[encoded data removed]",
      "text/plain": [
       "<Figure size 432x288 with 1 Axes>"
      ]
     },
     "metadata": {
      "needs_background": "light"
     },
     "output_type": "display_data"
    }
   ],
   "source": [
    "sns.boxplot(newdf['12percentage'])"
   ]
  },
  {
   "cell_type": "code",
   "execution_count": 16,
   "metadata": {},
   "outputs": [
    {
     "data": {
      "text/plain": [
       "<matplotlib.axes._subplots.AxesSubplot at 0x296b39d6188>"
      ]
     },
     "execution_count": 16,
     "metadata": {},
     "output_type": "execute_result"
    },
    {
     "data": {
      "image/png": "[encoded data removed]",
      "text/plain": [
       "<Figure size 432x288 with 1 Axes>"
      ]
     },
     "metadata": {
      "needs_background": "light"
     },
     "output_type": "display_data"
    }
   ],
   "source": [
    "sns.boxplot(newdf['agreeableness'])"
   ]
  },
  {
   "cell_type": "code",
   "execution_count": 17,
   "metadata": {
    "scrolled": true
   },
   "outputs": [
    {
     "data": {
      "text/plain": [
       "<matplotlib.axes._subplots.AxesSubplot at 0x296b3be8b08>"
      ]
     },
     "execution_count": 17,
     "metadata": {},
     "output_type": "execute_result"
    },
    {
     "data": {
      "image/png": "[encoded data removed]",
      "text/plain": [
       "<Figure size 432x288 with 1 Axes>"
      ]
     },
     "metadata": {
      "needs_background": "light"
     },
     "output_type": "display_data"
    }
   ],
   "source": [
    "sns.boxplot(newdf['conscientiousness'])"
   ]
  },
  {
   "cell_type": "code",
   "execution_count": 18,
   "metadata": {},
   "outputs": [
    {
     "data": {
      "text/plain": [
       "<matplotlib.axes._subplots.AxesSubplot at 0x296b3e4d5c8>"
      ]
     },
     "execution_count": 18,
     "metadata": {},
     "output_type": "execute_result"
    },
    {
     "data": {
      "image/png": "[encoded data removed]",
      "text/plain": [
       "<Figure size 432x288 with 1 Axes>"
      ]
     },
     "metadata": {
      "needs_background": "light"
     },
     "output_type": "display_data"
    }
   ],
   "source": [
    "sns.boxplot(newdf['extraversion'])"
   ]
  },
  {
   "cell_type": "code",
   "execution_count": 19,
   "metadata": {},
   "outputs": [
    {
     "data": {
      "text/plain": [
       "<matplotlib.axes._subplots.AxesSubplot at 0x296b3d69088>"
      ]
     },
     "execution_count": 19,
     "metadata": {},
     "output_type": "execute_result"
    },
    {
     "data": {
      "image/png": "[encoded data removed]",
      "text/plain": [
       "<Figure size 432x288 with 1 Axes>"
      ]
     },
     "metadata": {
      "needs_background": "light"
     },
     "output_type": "display_data"
    }
   ],
   "source": [
    "sns.boxplot(newdf['nueroticism'])"
   ]
  },
  {
   "cell_type": "code",
   "execution_count": 20,
   "metadata": {
    "scrolled": false
   },
   "outputs": [
    {
     "data": {
      "text/plain": [
       "<matplotlib.axes._subplots.AxesSubplot at 0x296b3dd0908>"
      ]
     },
     "execution_count": 20,
     "metadata": {},
     "output_type": "execute_result"
    },
    {
     "data": {
      "image/png": "[encoded data removed]",
      "text/plain": [
       "<Figure size 432x288 with 1 Axes>"
      ]
     },
     "metadata": {
      "needs_background": "light"
     },
     "output_type": "display_data"
    }
   ],
   "source": [
    "sns.boxplot(newdf['openess_to_experience'])"
   ]
  },
  {
   "cell_type": "markdown",
   "metadata": {},
   "source": [
    "# Observations from Univariate Analysis\n",
    "1.There are a lot of candidates who have salaries more than 5lpa.\n",
    "2.There are a lot of candidates who have 10percentage less than 50%\n",
    "3.There is only one outlier in 12percentage data ie there is only candidate who has scored around 40% marks."
   ]
  },
  {
   "cell_type": "markdown",
   "metadata": {},
   "source": [
    "## Understand the probability and frequency distribution of each numerical column"
   ]
  },
  {
   "cell_type": "code",
   "execution_count": 21,
   "metadata": {
    "scrolled": true
   },
   "outputs": [
    {
     "data": {
      "image/png": "[encoded data removed]",
      "text/plain": [
       "<Figure size 432x288 with 1 Axes>"
      ]
     },
     "metadata": {
      "needs_background": "light"
     },
     "output_type": "display_data"
    }
   ],
   "source": [
    "plt.hist(newdf['CollegeTier'])\n",
    "plt.show()"
   ]
  },
  {
   "cell_type": "code",
   "execution_count": 22,
   "metadata": {},
   "outputs": [
    {
     "data": {
      "image/png": "[encoded data removed]",
      "text/plain": [
       "<Figure size 432x288 with 1 Axes>"
      ]
     },
     "metadata": {
      "needs_background": "light"
     },
     "output_type": "display_data"
    }
   ],
   "source": [
    "plt.hist(newdf['CollegeCityTier'])\n",
    "plt.show()"
   ]
  },
  {
   "cell_type": "code",
   "execution_count": 23,
   "metadata": {
    "scrolled": true
   },
   "outputs": [
    {
     "data": {
      "image/png": "[encoded data removed]",
      "text/plain": [
       "<Figure size 432x288 with 1 Axes>"
      ]
     },
     "metadata": {
      "needs_background": "light"
     },
     "output_type": "display_data"
    }
   ],
   "source": [
    "plt.scatter(y=df['Salary'],x=df['Degree'])\n",
    "plt.show()"
   ]
  },
  {
   "cell_type": "code",
   "execution_count": 24,
   "metadata": {},
   "outputs": [
    {
     "data": {
      "image/png": "[encoded data removed]",
      "text/plain": [
       "<Figure size 432x288 with 1 Axes>"
      ]
     },
     "metadata": {
      "needs_background": "light"
     },
     "output_type": "display_data"
    }
   ],
   "source": [
    "plt.scatter(y=df['Salary'],x=df['CollegeTier'])\n",
    "plt.show()"
   ]
  },
  {
   "cell_type": "code",
   "execution_count": null,
   "metadata": {},
   "outputs": [],
   "source": []
  },
  {
   "cell_type": "code",
   "execution_count": 25,
   "metadata": {},
   "outputs": [
    {
     "data": {
      "image/png": "[encoded data removed]",
      "text/plain": [
       "<Figure size 432x288 with 1 Axes>"
      ]
     },
     "metadata": {
      "needs_background": "light"
     },
     "output_type": "display_data"
    }
   ],
   "source": [
    "plt.hist(df['10percentage'])\n",
    "plt.show()"
   ]
  },
  {
   "cell_type": "code",
   "execution_count": 26,
   "metadata": {},
   "outputs": [
    {
     "data": {
      "text/plain": [
       "B.Tech/B.E.      3700\n",
       "MCA               243\n",
       "M.Tech./M.E.       53\n",
       "M.Sc. (Tech.)       2\n",
       "Name: Degree, dtype: int64"
      ]
     },
     "execution_count": 26,
     "metadata": {},
     "output_type": "execute_result"
    }
   ],
   "source": [
    "df['Degree'].value_counts()"
   ]
  },
  {
   "cell_type": "code",
   "execution_count": null,
   "metadata": {},
   "outputs": [],
   "source": []
  }
 ],
 "metadata": {
  "kernelspec": {
   "display_name": "Python 3",
   "language": "python",
   "name": "python3"
  },
  "language_info": {
   "codemirror_mode": {
    "name": "ipython",
    "version": 3
   },
   "file_extension": ".py",
   "mimetype": "text/x-python",
   "name": "python",
   "nbconvert_exporter": "python",
   "pygments_lexer": "ipython3",
   "version": "3.7.6"
  }
 },
 "nbformat": 4,
 "nbformat_minor": 4
}
